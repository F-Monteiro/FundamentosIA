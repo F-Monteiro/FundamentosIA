{
  "cells": [
    {
      "cell_type": "markdown",
      "metadata": {
        "id": "erof1qQ5CTY2"
      },
      "source": [
        "# Fundamentos de Inteligência Artificial"
      ]
    },
    {
      "cell_type": "markdown",
      "metadata": {
        "id": "dN8NjYr4CTY3"
      },
      "source": [
        "## Estudo Dirigido: Grafos e Caminhos"
      ]
    },
    {
      "cell_type": "markdown",
      "metadata": {
        "id": "8TXFUprdCTY3"
      },
      "source": [
        "Professores: João Pedro Campos e Cristiano Leite de Castro"
      ]
    },
    {
      "cell_type": "markdown",
      "metadata": {
        "id": "C_zZVDfyCTY4"
      },
      "source": [
        "Nosso objetivo é estudar, na prática, alguns algoritmos utilizados para explorar grafos e encontrar caminhos. Você deverá completar o código nas partes destinadas a isso, bem como responder às perguntas distribuídas ao longo do estudo.\n"
      ]
    },
    {
      "cell_type": "markdown",
      "metadata": {
        "id": "cT8oWQSNCTY4"
      },
      "source": [
        "Vamos começar criando as classes que definirão nosso objeto Grafo. Analise e execute o código abaixo. Nesta etapa, você não precisará programar nada."
      ]
    },
    {
      "cell_type": "code",
      "execution_count": 12,
      "metadata": {
        "id": "u-6bZhPyCTY4"
      },
      "outputs": [],
      "source": [
        "class Edge:\n",
        "    def __init__(self, u, v, w):\n",
        "        self.u = u  # starting vertex\n",
        "        self.v = v  # ending vertex\n",
        "        self.w = w  # weight of the edge\n",
        "\n",
        "    def __lt__(self, other):\n",
        "        # This makes the edges comparable by weight for sorting\n",
        "        return self.w < other.w\n",
        "\n",
        "    def __str__(self):\n",
        "        # String representation of an edge\n",
        "        return f\"{self.u} -> {self.v} ({self.w})\"\n",
        "\n",
        "    def __repr__(self):\n",
        "        return self.__str__()\n",
        "\n",
        "class Graph:\n",
        "    def __init__(self):\n",
        "        # Initialize a graph with no predefined number of vertices\n",
        "        self.graph = {}  # key: vertex, value: list of edges\n",
        "\n",
        "    def add_edge(self, u, v, w):\n",
        "        # Add an edge from u to v with weight w\n",
        "        if u not in self.graph:\n",
        "            self.graph[u] = []\n",
        "        if v not in self.graph:\n",
        "            self.graph[v] = []\n",
        "\n",
        "        self.graph[u].append(Edge(u, v, w))\n",
        "\n",
        "    def add_undirected_edge(self, u, v, w):\n",
        "        # Add an undirected edge between u and v with weight w\n",
        "        self.add_edge(u, v, w)\n",
        "        self.add_edge(v, u, w)\n",
        "\n",
        "    def __str__(self):\n",
        "        # String representation of the entire graph\n",
        "        result = []\n",
        "        for u in self.graph:\n",
        "            for edge in self.graph[u]:\n",
        "                result.append(str(edge))\n",
        "        return \"\\n\".join(result)\n",
        "\n",
        "    def get_edges(self):\n",
        "        # Returns all edges in the graph\n",
        "        edges = []\n",
        "        for u in self.graph:\n",
        "            for edge in self.graph[u]:\n",
        "                edges.append(edge)\n",
        "        return edges\n",
        "\n",
        "    def out_degree(self, u):\n",
        "        # Return the out-degree of vertex u\n",
        "        if u in self.graph:\n",
        "            return len(self.graph[u])\n",
        "        else:\n",
        "            raise ValueError(f\"Vertex {u} not found in the graph.\")\n",
        "\n",
        "    def in_degree(self, v):\n",
        "        # Return the in-degree of vertex v\n",
        "        in_deg = 0\n",
        "        for u in self.graph:\n",
        "            for edge in self.graph[u]:\n",
        "                if edge.v == v:\n",
        "                    in_deg += 1\n",
        "        return in_deg\n",
        "\n",
        "    def get_neighbors(self, u):\n",
        "        # Returns the neighbors of vertex u\n",
        "        if u in self.graph:\n",
        "            return [edge.v for edge in self.graph[u]]\n",
        "        else:\n",
        "            raise ValueError(f\"Vertex {u} not found in the graph.\")"
      ]
    },
    {
      "cell_type": "markdown",
      "metadata": {
        "id": "OIvcp6QuCTY4"
      },
      "source": [
        "1. Qual maneira foi escolhida para representar o grafo neste código? Quais as vantagens e desvantagens dela, comparada com outras formas populares de representação de grafos?\n",
        "\n",
        "  R.: O código representa o grafo pelas suas arestas. É uma forma simples, conseguindo repassar o máximo de informações usando o mínimo de espaço, porém possui esforço computacional maior para tratar dos vértices diretamente.\n",
        "\n",
        "2. O código consegue representar grafos direcionados, não direcionados, ou ambos? Por quê?\n",
        "\n",
        "R.: O código é capaz de representar ambos na prática, apesar de internamente usar apenas direcionados. Ligações não direcionadas são criadas fazendo uma ligação em cada sentido, gerando o mesmo efeito."
      ]
    },
    {
      "cell_type": "markdown",
      "metadata": {
        "id": "3pIYs1omCTY4"
      },
      "source": [
        "## Problema de Caminhos"
      ]
    },
    {
      "cell_type": "markdown",
      "metadata": {
        "id": "HDA0CAMtCTY5"
      },
      "source": [
        "![image.png](attachment:image.png)"
      ]
    },
    {
      "cell_type": "markdown",
      "metadata": {
        "id": "g48NR32kCTY5"
      },
      "source": [
        "Considere o grafo acima, representando conexões entre algumas cidades da Europa.\n",
        "Obs: repare a função \"add_edge\", e note que ela pede que seja passado um peso da aresta. Por enquanto, vamos considerar que o grafo é não ponderado, e que todas as arestas têm peso igual a 1. Além disso, note que o grafo é direcionado, portanto a direção da aresta importa, e deve ser levada em conta na ordem dos argumentos da função \"add_edge\"."
      ]
    },
    {
      "cell_type": "code",
      "execution_count": 13,
      "metadata": {
        "id": "JxhBcACOCTY5"
      },
      "outputs": [],
      "source": [
        "Europe = Graph()\n",
        "Europe.add_edge(\"Paris\", \"Hambourg\", 1)\n",
        "Europe.add_edge(\"Paris\", \"Amsterdam\", 1)\n",
        "Europe.add_edge(\"Paris\", \"Londres\", 1)\n",
        "Europe.add_edge(\"Hambourg\", \"Stockholm\", 1)\n",
        "Europe.add_edge(\"Hambourg\", \"Berlin\", 1)\n",
        "Europe.add_edge(\"Amsterdam\", \"Oslo\", 1)\n",
        "Europe.add_edge(\"Amsterdam\", \"Hambourg\", 1)\n",
        "Europe.add_edge(\"Amsterdam\", \"Londres\", 1)\n",
        "Europe.add_edge(\"Londres\", \"Edimbourg\", 1)\n",
        "Europe.add_edge(\"Berlin\", \"Stockholm\", 1)\n",
        "Europe.add_edge(\"Berlin\", \"Oslo\", 1)\n",
        "Europe.add_edge(\"Berlin\", \"Amsterdam\", 1)\n",
        "Europe.add_edge(\"Edimbourg\", \"Amsterdam\", 1)\n",
        "Europe.add_edge(\"Edimbourg\", \"Oslo\", 1)\n",
        "Europe.add_edge(\"Edimbourg\", \"Rana\", 1)\n",
        "Europe.add_edge(\"Stockholm\", \"Oslo\", 1)\n",
        "Europe.add_edge(\"Stockholm\", \"Rana\", 1)\n",
        "Europe.add_edge(\"Oslo\", \"Rana\", 1)\n"
      ]
    },
    {
      "cell_type": "markdown",
      "metadata": {
        "id": "4FY2htXCCTY5"
      },
      "source": [
        "Execute a função \"get_neighbors\", passando como argumento o nó Paris. Verifique se os vizinhos retornados são de fato os vizinhos esperados, de acordo com a figura."
      ]
    },
    {
      "cell_type": "code",
      "execution_count": 14,
      "metadata": {
        "colab": {
          "base_uri": "https://localhost:8080/"
        },
        "id": "7eL4IaN3CTY5",
        "outputId": "946a785d-c2ef-488b-ecf2-d28916a5dec5"
      },
      "outputs": [
        {
          "output_type": "execute_result",
          "data": {
            "text/plain": [
              "['Hambourg', 'Amsterdam', 'Londres']"
            ]
          },
          "metadata": {},
          "execution_count": 14
        }
      ],
      "source": [
        "Europe.get_neighbors(\"Paris\")"
      ]
    },
    {
      "cell_type": "markdown",
      "metadata": {
        "id": "YTCGl4fICTY5"
      },
      "source": [
        "Agora, vamos implementar um algoritmo BFS (Breadth First Search) para explorar esse grafo. Vamos considerar que o nó de partida é a cidade de Paris."
      ]
    },
    {
      "cell_type": "code",
      "execution_count": 15,
      "metadata": {
        "colab": {
          "base_uri": "https://localhost:8080/"
        },
        "id": "p5WfC5tbCTY5",
        "outputId": "5e41f785-3d2a-4a79-93c7-a03d41614926"
      },
      "outputs": [
        {
          "output_type": "stream",
          "name": "stdout",
          "text": [
            "Menores distâncias (número de arestas): {'Paris': 0, 'Hambourg': 1, 'Amsterdam': 1, 'Londres': 1, 'Stockholm': 2, 'Berlin': 2, 'Oslo': 2, 'Edimbourg': 2, 'Rana': 3}\n",
            "Caminho para Paris: ['Paris']\n",
            "Caminho para Hambourg: ['Paris', 'Hambourg']\n",
            "Caminho para Amsterdam: ['Paris', 'Amsterdam']\n",
            "Caminho para Londres: ['Paris', 'Londres']\n",
            "Caminho para Stockholm: ['Paris', 'Hambourg', 'Stockholm']\n",
            "Caminho para Berlin: ['Paris', 'Hambourg', 'Berlin']\n",
            "Caminho para Oslo: ['Paris', 'Amsterdam', 'Oslo']\n",
            "Caminho para Edimbourg: ['Paris', 'Londres', 'Edimbourg']\n",
            "Caminho para Rana: ['Paris', 'Hambourg', 'Stockholm', 'Rana']\n"
          ]
        }
      ],
      "source": [
        "from collections import deque\n",
        "\n",
        "def bfs(graph, start):\n",
        "    \"\"\"Realiza a busca em largura (BFS) no grafo a partir de start.\"\"\"\n",
        "    dist = {vertex: float(\"inf\") for vertex in graph.graph}  # Inicializa as distâncias como infinito\n",
        "    predecessor = {vertex: None for vertex in graph.graph}  # Predecessor para reconstrução do caminho\n",
        "    dist[start] = 0  # Distância do nó inicial é 0\n",
        "\n",
        "    queue = deque([start])  # Fila para a busca em largura\n",
        "\n",
        "    while queue:\n",
        "        city = queue.popleft()  # Pega o próximo vértice da fila\n",
        "        if city in graph.graph:\n",
        "            for edge in graph.graph[city]:\n",
        "                v = edge.v\n",
        "                if dist[v] == float(\"inf\"): #Caso o vértice não tenha sido adicionado ainda\n",
        "                    dist[v] = dist[city] + edge.w\n",
        "                    predecessor[v] = city\n",
        "                    queue.append(v)  # Adiciona v à fila para ser visitado\n",
        "\n",
        "\n",
        "    return dist, predecessor\n",
        "\n",
        "def reconstruct_path(predecessor, start, end):\n",
        "    \"\"\"Reconstrói o caminho do vértice start até end usando o dicionário predecessor.\"\"\"\n",
        "    path = []\n",
        "    current = end\n",
        "    while current is not None:\n",
        "        path.append(current)\n",
        "        current = predecessor[current]\n",
        "    path.reverse()  # Inverte para obter na ordem correta\n",
        "    return path if path[0] == start else []  # Retorna caminho válido ou vazio\n",
        "\n",
        "\n",
        "dist, predecessor = bfs(Europe, \"Paris\")\n",
        "\n",
        "# Exibir as distâncias mínimas\n",
        "print(\"Menores distâncias (número de arestas):\", dist)\n",
        "\n",
        "# Exibir os caminhos para cada nó\n",
        "for node in dist:\n",
        "    print(f\"Caminho para {node}: {reconstruct_path(predecessor, 'Paris', node)}\")"
      ]
    },
    {
      "cell_type": "markdown",
      "metadata": {
        "id": "dkdgtPMlCTY5"
      },
      "source": [
        "3. O que aconteceria se em vez de uma fila fosse utilizada uma estrutura de pilha?\n",
        "\n",
        "R.: A busca passaria a ser feita por profundidade ao invés de largura\n",
        "\n",
        "4. Foi utilizada a estrutura 'deque', do pacote 'collections', para fazer a fila. Uma fila também poderia ser implementada utilizando a lista ('queue = []') nativa do python. Apesar de funcionar corretamente, tal abordagem não é recomendada. Pesquise e explique porquê.\n",
        "\n",
        "R: Ao manipular a lista do Python em forma de fila, remover o primeiro item implica em movimentar todos os itens para uma posição anterior (complexidade O(n)). Já a estrutura 'deque' é otimizada nesse sentido, tendo uma complexidade O(1) para remover itens no início da fila.\n",
        "\n",
        "5. Qual a complexidade algorítmica do método BFS? Por quê?\n",
        "\n",
        "R.: A complexidade é O(n), pois passa por cada aresta uma vez."
      ]
    },
    {
      "cell_type": "markdown",
      "metadata": {
        "id": "0wyUkJGmCTY5"
      },
      "source": [
        "## Componentes Conectados"
      ]
    },
    {
      "cell_type": "markdown",
      "metadata": {
        "id": "b6hUOWSgCTY5"
      },
      "source": [
        "Imagine agora a situação seguinte: por algum motivo, algumas das conexões entre as cidades foram perdidas. Isso fez com que fossem criadas \"ilhas\" de cidades conectadas entre si, mas separadas das demais. O grafo resultante foi o seguinte:"
      ]
    },
    {
      "cell_type": "markdown",
      "metadata": {
        "id": "fjhM_0xYCTY5"
      },
      "source": [
        "![image.png](attachment:image.png)"
      ]
    },
    {
      "cell_type": "markdown",
      "metadata": {
        "id": "x_Jh2DQUCTY5"
      },
      "source": [
        "Crie um grafo novo para representar essa situação. Em seguida, modifique o código BFS para contar quantas \"ilhas\" foram criadas, ou seja, quantos componentes conectados entre si existem. Nesse caso, existem 3."
      ]
    },
    {
      "cell_type": "code",
      "execution_count": 20,
      "metadata": {
        "id": "v9XjCbdlCTY5"
      },
      "outputs": [],
      "source": [
        "disconnected_europe = Graph()\n",
        "\n",
        "disconnected_europe.add_undirected_edge(\"Paris\", \"Hambourg\", 1)\n",
        "disconnected_europe.add_undirected_edge(\"Amsterdam\", \"Hambourg\", 1)\n",
        "disconnected_europe.add_undirected_edge(\"Londres\", \"Edimbourg\", 1)\n",
        "disconnected_europe.add_undirected_edge(\"Berlin\", \"Stockholm\", 1)\n",
        "disconnected_europe.add_undirected_edge(\"Berlin\", \"Oslo\", 1)\n",
        "disconnected_europe.add_undirected_edge(\"Oslo\", \"Stockholm\", 1)\n",
        "disconnected_europe.add_undirected_edge(\"Oslo\", \"Rana\", 1)\n"
      ]
    },
    {
      "cell_type": "code",
      "execution_count": 21,
      "metadata": {
        "colab": {
          "base_uri": "https://localhost:8080/"
        },
        "id": "r90_9umBCTY5",
        "outputId": "14f94bc7-ad36-47e3-cb0c-2b2c75dee82f"
      },
      "outputs": [
        {
          "output_type": "stream",
          "name": "stdout",
          "text": [
            "Número de componentes conectados: 3\n"
          ]
        }
      ],
      "source": [
        "# Use BFS para contar o número de componentes conectados\n",
        "from sympy import comp\n",
        "\n",
        "def count_connected_components(graph):\n",
        "    \"\"\"Conta o número de componentes conectados usando BFS.\"\"\"\n",
        "    visited = set()  # Conjunto de nós visitados\n",
        "    components = 0  # Contador de componentes conectados\n",
        "\n",
        "    for city in graph.graph:\n",
        "        if city not in visited:\n",
        "            components += 1\n",
        "            queue = deque([city])\n",
        "            visited.add(city)\n",
        "\n",
        "            while queue:\n",
        "              neighbor = queue.popleft()  # Pega o próximo vértice da fila\n",
        "              if neighbor in graph.graph:\n",
        "                  for edge in graph.graph[neighbor]:\n",
        "                    if edge.v not in visited:\n",
        "                          visited.add(edge.v)\n",
        "                          queue.append(edge.v)\n",
        "\n",
        "    return components\n",
        "\n",
        "componentes = count_connected_components(disconnected_europe)\n",
        "print(\"Número de componentes conectados:\", componentes)"
      ]
    },
    {
      "cell_type": "markdown",
      "metadata": {
        "id": "A0eT4EXxCTY5"
      },
      "source": [
        "## Caminho ótimo em grafo ponderado"
      ]
    },
    {
      "cell_type": "markdown",
      "metadata": {
        "id": "W2uKnGljCTY5"
      },
      "source": [
        "Vamos, agora, imaginar que existem custos associados aos diferentes trajetos neste grafo. A figura baixo indica o custo de cada trecho."
      ]
    },
    {
      "cell_type": "markdown",
      "metadata": {
        "id": "v8r13uvXCTY5"
      },
      "source": [
        "![image.png](attachment:image.png)"
      ]
    },
    {
      "cell_type": "code",
      "execution_count": 24,
      "metadata": {
        "id": "BW8rnxdPCTY5"
      },
      "outputs": [],
      "source": [
        "#  Grafo ponderado correspondente\n",
        "Europe2 = Graph()\n",
        "Europe2.add_edge(\"Paris\", \"Hambourg\", 7)\n",
        "Europe2.add_edge(\"Paris\", \"Amsterdam\", 3)\n",
        "Europe2.add_edge(\"Paris\", \"Londres\", 4)\n",
        "Europe2.add_edge(\"Hambourg\", \"Stockholm\", 1)\n",
        "Europe2.add_edge(\"Hambourg\", \"Berlin\", 1)\n",
        "Europe2.add_edge(\"Amsterdam\", \"Oslo\", 8)\n",
        "Europe2.add_edge(\"Amsterdam\", \"Hambourg\", 2)\n",
        "Europe2.add_edge(\"Amsterdam\", \"Londres\", 1)\n",
        "Europe2.add_edge(\"Londres\", \"Edimbourg\", 2)\n",
        "Europe2.add_edge(\"Berlin\", \"Stockholm\", 1)\n",
        "Europe2.add_edge(\"Berlin\", \"Oslo\", 3)\n",
        "Europe2.add_edge(\"Berlin\", \"Amsterdam\", 2)\n",
        "Europe2.add_edge(\"Edimbourg\", \"Amsterdam\", 3)\n",
        "Europe2.add_edge(\"Edimbourg\", \"Oslo\", 7)\n",
        "Europe2.add_edge(\"Edimbourg\", \"Rana\", 6)\n",
        "Europe2.add_edge(\"Stockholm\", \"Oslo\", 2)\n",
        "Europe2.add_edge(\"Stockholm\", \"Rana\", 5)\n",
        "Europe2.add_edge(\"Oslo\", \"Rana\", 2)"
      ]
    },
    {
      "cell_type": "markdown",
      "metadata": {
        "id": "wYTJJbriCTY5"
      },
      "source": [
        "Sua tarefa agora é implementar o algoritmo de Dijkstra para encontrar o menor caminho entre Paris e Rana. Considere que queremos saber o custo do caminho, e também as cidades por ele onde passa."
      ]
    },
    {
      "cell_type": "code",
      "execution_count": 25,
      "metadata": {
        "id": "vVppK61SCTY6"
      },
      "outputs": [],
      "source": [
        "# Find the shortest path from Paris to Rana using Dijkstra's algorithm\n",
        "from heapq import heappush, heappop\n",
        "\n",
        "def dijkstra(graph, start):\n",
        "    # Initialize the distance of all vertices to infinity\n",
        "    dist = {vertex: float(\"inf\") for vertex in graph}\n",
        "    predecessor = {vertex: None for vertex in graph}\n",
        "    dist[start] = 0  # Distance from start to start is 0\n",
        "\n",
        "    # Initialize the priority queue with the start vertex\n",
        "    pq = [(0, start)]  # (distance, vertex)\n",
        "\n",
        "    while pq:\n",
        "        # start\n",
        "        current_dist, city = heappop(pq)\n",
        "\n",
        "        # If the current distance is greater than the recorded distance, skip\n",
        "        if current_dist > dist[city]:\n",
        "            continue\n",
        "\n",
        "        # Iterate over the neighbors of u\n",
        "        if city in graph and graph[city]:\n",
        "            for edge in graph[city]:\n",
        "                if dist[city] + edge.w < dist[edge.v]:\n",
        "                    dist[edge.v] = dist[city] + edge.w\n",
        "                    predecessor[edge.v] = city\n",
        "                    heappush(pq, (dist[edge.v], edge.v))\n",
        "        # end\n",
        "\n",
        "    return dist, predecessor"
      ]
    },
    {
      "cell_type": "code",
      "execution_count": 26,
      "metadata": {
        "id": "kStWZznJCTY6"
      },
      "outputs": [],
      "source": [
        "# test Dijkstra's algorithm\n",
        "distances = dijkstra(Europe2.graph, \"Paris\")"
      ]
    },
    {
      "cell_type": "code",
      "execution_count": 27,
      "metadata": {
        "colab": {
          "base_uri": "https://localhost:8080/"
        },
        "id": "B46QmX79CTY6",
        "outputId": "ae4c2a0c-4177-481c-ff85-16d2962d08e7"
      },
      "outputs": [
        {
          "output_type": "execute_result",
          "data": {
            "text/plain": [
              "({'Paris': 0,\n",
              "  'Hambourg': 5,\n",
              "  'Amsterdam': 3,\n",
              "  'Londres': 4,\n",
              "  'Stockholm': 6,\n",
              "  'Berlin': 6,\n",
              "  'Oslo': 8,\n",
              "  'Edimbourg': 6,\n",
              "  'Rana': 10},\n",
              " {'Paris': None,\n",
              "  'Hambourg': 'Amsterdam',\n",
              "  'Amsterdam': 'Paris',\n",
              "  'Londres': 'Paris',\n",
              "  'Stockholm': 'Hambourg',\n",
              "  'Berlin': 'Hambourg',\n",
              "  'Oslo': 'Stockholm',\n",
              "  'Edimbourg': 'Londres',\n",
              "  'Rana': 'Oslo'})"
            ]
          },
          "metadata": {},
          "execution_count": 27
        }
      ],
      "source": [
        "distances"
      ]
    },
    {
      "cell_type": "code",
      "execution_count": 28,
      "metadata": {
        "id": "w-e0QNSpCTY6"
      },
      "outputs": [],
      "source": [
        "def reconstruct_path(predecessor, start, end):\n",
        "    \"\"\"Reconstrói o caminho do vértice start até end.\"\"\"\n",
        "    path = []\n",
        "    current = end\n",
        "    while current is not None:\n",
        "        path.append(current)\n",
        "        current = predecessor[current]\n",
        "    path.reverse()  # Inverte para obter na ordem correta\n",
        "    return path if path[0] == start else []  # Retorna caminho válido ou vazio"
      ]
    },
    {
      "cell_type": "code",
      "execution_count": 30,
      "metadata": {
        "colab": {
          "base_uri": "https://localhost:8080/"
        },
        "id": "lfoKD5uMCTY6",
        "outputId": "91106ee4-0a10-4382-b3b7-d51d3a146b0c"
      },
      "outputs": [
        {
          "output_type": "execute_result",
          "data": {
            "text/plain": [
              "['Paris', 'Amsterdam', 'Hambourg', 'Stockholm', 'Oslo', 'Rana']"
            ]
          },
          "metadata": {},
          "execution_count": 30
        }
      ],
      "source": [
        "# Testa o algoritmo de Dijkstra\n",
        "dist, pred = dijkstra(Europe2.graph, \"Paris\")\n",
        "path = reconstruct_path(pred, \"Paris\", \"Rana\")\n",
        "path"
      ]
    },
    {
      "cell_type": "code",
      "execution_count": null,
      "metadata": {
        "id": "s-BUociWCTY6"
      },
      "outputs": [],
      "source": []
    }
  ],
  "metadata": {
    "kernelspec": {
      "display_name": "Python [conda env:base] *",
      "language": "python",
      "name": "conda-base-py"
    },
    "language_info": {
      "codemirror_mode": {
        "name": "ipython",
        "version": 3
      },
      "file_extension": ".py",
      "mimetype": "text/x-python",
      "name": "python",
      "nbconvert_exporter": "python",
      "pygments_lexer": "ipython3",
      "version": "3.12.7"
    },
    "colab": {
      "provenance": []
    }
  },
  "nbformat": 4,
  "nbformat_minor": 0
}